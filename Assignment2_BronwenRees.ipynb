{
 "cells": [
  {
   "cell_type": "markdown",
   "id": "c491416d-6dca-43d6-a660-5461471ebf38",
   "metadata": {},
   "source": [
    "# Lab Assignment 2 - Bronwen Rees\n",
    "## 200011560\n",
    "Repository URL: https://github.com/bronwenrees02/PY4SA23_Assignment.git"
   ]
  },
  {
   "cell_type": "markdown",
   "id": "21f31e2b-0529-4f7b-9476-a5423327f6f9",
   "metadata": {},
   "source": [
    "### Python Basics\n",
    "#### Task 1\n",
    "Creating an **if...else** statement that will test whether a number is divisible by 3"
   ]
  },
  {
   "cell_type": "code",
   "execution_count": null,
   "id": "75b7f7c1-e053-4b35-9fa1-fecb99ed4380",
   "metadata": {},
   "outputs": [],
   "source": [
    "number = 45378\n",
    "print(number)\n",
    "if (number % 3) == 0: # the % is the remainder function\n",
    "    print(\"Your number is divisible by 3\") # this will print if remainder when divided by 3 is 0\n",
    "else:\n",
    "    print(\"Your number isn't divisible by 3\")"
   ]
  },
  {
   "cell_type": "markdown",
   "id": "18648db8-c1e9-487a-a557-8c8e2bfa88cf",
   "metadata": {},
   "source": [
    "#### Task 2\n",
    "Creating an **if...else** statement that will test whether a type of fruit, represented as a text string, is in a list of acceptable fruits"
   ]
  },
  {
   "cell_type": "code",
   "execution_count": null,
   "id": "588eda45-19b5-4034-a864-efd7ccb63bd8",
   "metadata": {},
   "outputs": [],
   "source": [
    "my_fruit = \"guava\"\n",
    "print(\"My chosen fruit is\", my_fruit)\n",
    "acceptable_fruits = [\"cherry\", \"nectarine\", \"kiwi\", \"mango\", \"passionfruit\", \"raspberry\"]\n",
    "# square brackets define the list\n",
    "if my_fruit in acceptable_fruits: #this searches for input in pre-defined list\n",
    "   print(\"Your fruit is acceptable\")\n",
    "else:\n",
    "    print(\"Sorry, your fruit is not found in the list of acceptable fruits\")"
   ]
  },
  {
   "cell_type": "markdown",
   "id": "bd1e48fd-e92c-402c-9303-651b256def82",
   "metadata": {},
   "source": [
    "#### Task 3\n",
    "Creating a **function** to calculate the distance between two coordinates using the haversine formula"
   ]
  },
  {
   "cell_type": "code",
   "execution_count": null,
   "id": "c6e1843e-16e7-46e2-8f48-fb45a4967895",
   "metadata": {},
   "outputs": [],
   "source": [
    "import math\n",
    "from math import sin, cos, sqrt, atan2, radians\n",
    "\n",
    "def haversine(coord1:object, coord2:object):\n",
    "\n",
    "    # convert decimal degrees to radians for use in equation \n",
    "    lon1, lat1 = coord1\n",
    "    lon2, lat2 = coord2\n",
    "    phi_1 = math.radians(lat1) #define equation inputs\n",
    "    phi_2 = math.radians(lat2)\n",
    "    delta_phi = math.radians(lat2 - lat1)\n",
    "    delta_lambda = math.radians(lon2 - lon1)\n",
    "\n",
    "    # haversine formula with inputs\n",
    "    a = math.sin(delta_phi / 2.0) ** 2 + math.cos(phi_1) * math.cos(phi_2) * math.sin(delta_lambda / 2.0) ** 2\n",
    "    c = 2 * math.atan2(math.sqrt(a), math.sqrt(1 - a))\n",
    "    R = 6371\n",
    "    return R * c # what formula calculation returns\n",
    "\n",
    "coord1 = -0.093941,51.45671 #what is inputed into formula\n",
    "coord2 = -77.009003,38.8889931\n",
    "spherical_distance = (haversine(coord1, coord2)) #answer\n",
    "spherical_distance = round(spherical_distance, 3) # rounds answer to 3 decimal places\n",
    "print(\"The distance between these two points is\", spherical_distance, \"km\")"
   ]
  },
  {
   "cell_type": "markdown",
   "id": "83a6fde6-0a8d-4401-9836-53f078a7d6ff",
   "metadata": {},
   "source": [
    "### Pandas and NumPy\n",
    "#### Using the portland_park_trees.csv"
   ]
  },
  {
   "cell_type": "code",
   "execution_count": null,
   "id": "7b3548cd-46a6-4bea-bb48-82d623b790ca",
   "metadata": {},
   "outputs": [],
   "source": [
    "# First import pandas and numpy\n",
    "import pandas as pd\n",
    "import numpy as np\n",
    "# now import the csv file\n",
    "portland_tree_data = pd.read_csv(\"Assignment_2_Data/portland_park_trees.csv\")"
   ]
  },
  {
   "cell_type": "markdown",
   "id": "6a3d5755-e7dd-4a48-a829-2dc73e6883fc",
   "metadata": {},
   "source": [
    "#### Q1\n",
    "How many trees are of the Quercus or Acer genus?"
   ]
  },
  {
   "cell_type": "code",
   "execution_count": null,
   "id": "89768b6d-a97e-4554-a5b1-216a9029088f",
   "metadata": {},
   "outputs": [],
   "source": [
    "Genus = portland_tree_data.query('Genus==\"Quercus\" or Genus==\"Acer\"')\n",
    "print(Genus.shape)"
   ]
  },
  {
   "cell_type": "markdown",
   "id": "788e7a49-5c24-45b9-8e6b-01d6aa28edab",
   "metadata": {},
   "source": [
    "Query function etracts all sections of data frame where Genus column value is Acer or Quercus\n",
    "\n",
    "shape function gives dimensions of data frame in format (no. columns, no. rows)\n",
    "\n",
    "The number of columns is 5675\n",
    "\n",
    "This means there are 5675 trees of the Acer or Quercus genus"
   ]
  },
  {
   "cell_type": "markdown",
   "id": "c9b93d5d-3568-486f-ac22-e057952f1bff",
   "metadata": {},
   "source": [
    "#### Q2\n",
    "How many trees are of the Quercus or Acer genus and have a DBH larger than 50 inches?"
   ]
  },
  {
   "cell_type": "code",
   "execution_count": null,
   "id": "548fa9aa-56c9-4099-b2bd-0d31ac87da5b",
   "metadata": {},
   "outputs": [],
   "source": [
    "Genus_dbh50 = Genus.query('DBH > 50')\n",
    "print(Genus_dbh50.shape)"
   ]
  },
  {
   "cell_type": "markdown",
   "id": "9cccfc22-bbbe-4294-9109-f2f4047670da",
   "metadata": {},
   "source": [
    "Again, the result is printed as (no. columns, no. rows)\n",
    "124 columns means 124 trees in eaither of the genuses wh=ith a DBH exceeding 50inches"
   ]
  },
  {
   "cell_type": "markdown",
   "id": "3166eeba-5757-4d60-836d-e67cd1eca4df",
   "metadata": {},
   "source": [
    "#### Q3\n",
    "Which genus has the highest mean DBH of the following genera: Quercus, Acer, or Fraxinus?"
   ]
  },
  {
   "cell_type": "code",
   "execution_count": null,
   "id": "485d0b68-a526-496e-8a1f-8f5e77fbd71c",
   "metadata": {},
   "outputs": [],
   "source": [
    "Quercus = portland_tree_data[portland_tree_data[\"Genus\"]==\"Quercus\"]\n",
    "Acer = portland_tree_data[portland_tree_data[\"Genus\"]==\"Acer\"]\n",
    "Fraxinus = portland_tree_data[portland_tree_data[\"Genus\"]==\"Fraxinus\"]"
   ]
  },
  {
   "cell_type": "markdown",
   "id": "6da317f2-ef9e-49ce-adb5-ac6ab5f39ee4",
   "metadata": {},
   "source": [
    "Subsets created of the 3 genuses"
   ]
  },
  {
   "cell_type": "code",
   "execution_count": null,
   "id": "0c60d2d0-7473-41d1-bc9d-17ac42e14b3c",
   "metadata": {},
   "outputs": [],
   "source": [
    "Quercus[\"DBH\"].mean()"
   ]
  },
  {
   "cell_type": "code",
   "execution_count": null,
   "id": "07e5b283-2ff6-4591-8bd0-a81721239264",
   "metadata": {},
   "outputs": [],
   "source": [
    "Fraxinus[\"DBH\"].mean()"
   ]
  },
  {
   "cell_type": "code",
   "execution_count": null,
   "id": "f8cde95b-0cb7-47a3-9055-91d9d51e6131",
   "metadata": {},
   "outputs": [],
   "source": [
    "Acer[\"DBH\"].mean()"
   ]
  },
  {
   "cell_type": "markdown",
   "id": "094674a1-82a8-4347-85d2-397597760d23",
   "metadata": {},
   "source": [
    "The Genus with the highest mean DBH is the Quercus genus with a value of 23.56"
   ]
  },
  {
   "cell_type": "markdown",
   "id": "7bb4b5ba-dff9-432b-bba0-4a80820d53c9",
   "metadata": {},
   "source": [
    "### Q4\n",
    "How many different species of trees are recorded in the Acer genus?"
   ]
  },
  {
   "cell_type": "code",
   "execution_count": null,
   "id": "eb626e8d-4157-4dd1-abc6-64db890cf065",
   "metadata": {},
   "outputs": [],
   "source": [
    "species_number= Acer.value_counts(\"Genus_spec\").shape[0]\n",
    "print(species_number)"
   ]
  },
  {
   "cell_type": "markdown",
   "id": "6eba7c5a-e327-4b4e-b0a3-f4b71e1e9369",
   "metadata": {},
   "source": [
    "The code asks for a count of values within the Acer subset created previously\n",
    "\n",
    "This is done using .value_counts()\n",
    "\n",
    ".shape[0] gives dimensions\n",
    "\n",
    "print(species_number) prints the number of unique soecies within the Acer Genus\n",
    "\n",
    "The answer is 20"
   ]
  },
  {
   "cell_type": "markdown",
   "id": "44fa9a4e-d354-4caf-9291-eb0910f35933",
   "metadata": {},
   "source": [
    "#### Using the world_cities.csv\n",
    "#### Q5\n",
    "• Calculate a new column named \"pop_M\" (population in millions), by transforming the \n",
    "\"pop\" (population) column.\n",
    "\n",
    "• Remove the original \"pop\" column.\n",
    "\n",
    "• Choose/subset a city that starts with the same letter as your first name (for example, \n",
    "\"Mexico City\" if your first name is Michael).\n",
    "\n",
    "• Subset the five biggest (i.e., largest population sizes) cities from the country where your selected city is.\n",
    "\n",
    "• Print the result."
   ]
  },
  {
   "cell_type": "code",
   "execution_count": null,
   "id": "fa7c2b06-a4bb-4956-b7e0-3ee3a15d5a0e",
   "metadata": {},
   "outputs": [],
   "source": [
    "# importing the data set\n",
    "cities = pd.read_csv(\"Assignment_2_Data/world_cities.csv\")"
   ]
  },
  {
   "cell_type": "code",
   "execution_count": null,
   "id": "c2bf4972-bedc-4b20-873c-d0157645b385",
   "metadata": {},
   "outputs": [],
   "source": [
    "# New column for population by millions\n",
    "cities['pop_M'] = cities['pop'] / 1000000"
   ]
  },
  {
   "cell_type": "code",
   "execution_count": null,
   "id": "fcfd84d8-3641-440a-a8fa-89bb0f7a86a9",
   "metadata": {},
   "outputs": [],
   "source": [
    "# removing original pop column\n",
    "del cities['pop']"
   ]
  },
  {
   "cell_type": "code",
   "execution_count": null,
   "id": "3b74f430-1ce2-4997-85dc-3a609607aa11",
   "metadata": {},
   "outputs": [],
   "source": [
    "# My name begins with B\n",
    "# My chosen city is Bangkok\n",
    "Bangkok_df = cities[cities[\"city\"]==\"Bangkok\"]\n",
    "print(Bangkok_df)"
   ]
  },
  {
   "cell_type": "code",
   "execution_count": null,
   "id": "d615d327-d74f-4d67-8593-2e670255fda3",
   "metadata": {},
   "outputs": [],
   "source": [
    "# Subset of Thailand's 5 largest cities\n",
    "Thailand = cities[cities[\"country\"]==\"Thailand\"]\n",
    "Thailand_subset = Thailand.sort_values('pop_M', ascending=False).head(5)\n",
    "Thailand_subset"
   ]
  },
  {
   "cell_type": "markdown",
   "id": "823f5832-f558-402d-b1ef-809f436d5db5",
   "metadata": {},
   "source": [
    "New Pop_M column created\n",
    "\n",
    "Pop colum deleted\n",
    "\n",
    "Bangkok row extracted from data frame\n",
    "\n",
    "Bangkok is in Thailand\n",
    "\n",
    "New subset created with the 5 most populated cities in Thailand placed in descending order in terms of population"
   ]
  },
  {
   "cell_type": "markdown",
   "id": "79da2cfa-934b-4870-97d3-8e99110584f5",
   "metadata": {},
   "source": [
    "### Python data visualisation\n",
    "#### Using portland_park_trees.csv"
   ]
  },
  {
   "cell_type": "code",
   "execution_count": null,
   "id": "f57d0dba-519e-4c95-a0ca-1a89a7b20647",
   "metadata": {},
   "outputs": [],
   "source": [
    "# first necessary libraries must be imported\n",
    "# in this case matplotlib and seaborn\n",
    "import seaborn as sns\n",
    "import matplotlib.pyplot as plt\n",
    "# the following code allows suitable plotting of results withing jupyter notebook\n",
    "%matplotlib inline"
   ]
  },
  {
   "cell_type": "markdown",
   "id": "79104424-1b18-4e69-bb21-d5bb2ad2cd87",
   "metadata": {},
   "source": [
    "#### Graph 1\n",
    "Scatterplot of trees in Ulmus genus\n",
    "x-axis: DBH\n",
    "y-ais: TreeHeight"
   ]
  },
  {
   "cell_type": "code",
   "execution_count": null,
   "id": "4cc25393-0e7f-4757-9106-bbdf63f29c5a",
   "metadata": {},
   "outputs": [],
   "source": [
    "Ulmus = portland_tree_data[portland_tree_data[\"Genus\"]== \"Ulmus\"]\n",
    "Ulmus_plt = sns.scatterplot(data=Ulmus, x='DBH', y='TreeHeight')\n",
    "# sns scatterplot of DBH against tree height for Ulmus genus\n",
    "plt.show(Ulmus_plt)"
   ]
  },
  {
   "cell_type": "markdown",
   "id": "9201a024-33a9-4af4-a9e1-a631c0977230",
   "metadata": {},
   "source": [
    "#### Graph 2\n",
    "Scatterplot of trees in Ulmus genus, which tree species mapped to hue"
   ]
  },
  {
   "cell_type": "code",
   "execution_count": null,
   "id": "33f31731-3a6b-426a-8fff-e7769c140a33",
   "metadata": {},
   "outputs": [],
   "source": [
    "# seaborn allows hue mapping based on an attribute\n",
    "# in this case the tree species\n",
    "sns.relplot(data=Ulmus, x='DBH', y='TreeHeight',hue='Genus_spec')"
   ]
  },
  {
   "cell_type": "markdown",
   "id": "b9bbda04-49b9-42af-8a1a-698a64534092",
   "metadata": {},
   "source": [
    "seaborn allows hue mapping based on an attribute in this case the tree species\n",
    "\n",
    "relplot() used in this case rather than scatterplot() to allow hue legend to be plotted off to side of graph\n",
    "\n",
    "plots same relationship as scatterplot Graph 1"
   ]
  },
  {
   "cell_type": "markdown",
   "id": "6a54529f-a9fc-4087-9f05-2d9d75483433",
   "metadata": {},
   "source": [
    "#### Graph 3\n",
    "Boxplot of DBH for just Ulmus genus differentiated by species"
   ]
  },
  {
   "cell_type": "code",
   "execution_count": null,
   "id": "196d1142-d0bf-49f2-8bdf-cf39ab01fbb0",
   "metadata": {},
   "outputs": [],
   "source": [
    "plt.figure(figsize=(10, 15))\n",
    "sns.boxplot(data=Ulmus, x='Species', y='DBH')\n",
    "plt.title('Box plot of DBH of tree species within the Ulmus genus') # give title\n",
    "plt.show()"
   ]
  },
  {
   "cell_type": "markdown",
   "id": "754d3194-24a5-4ec1-b5e4-07659230d01b",
   "metadata": {},
   "source": [
    "Boxplot created using sns.boxplot of DBH by species\n",
    "\n",
    "Axis were unintelligible due to label bunching when using 'Genus_spec' so 'Species' used instead\n",
    "\n",
    "The data is the same"
   ]
  },
  {
   "cell_type": "markdown",
   "id": "091b3cd9-f798-42f2-9d91-e9c16ac137c2",
   "metadata": {},
   "source": [
    "#### Graph 4 \n",
    "Combination of graphs 1 and 3"
   ]
  },
  {
   "cell_type": "code",
   "execution_count": null,
   "id": "e1491372-b35b-489a-b6a1-3d9769739c5b",
   "metadata": {},
   "outputs": [],
   "source": [
    "import matplotlib.pyplot as plt\n",
    "import seaborn as sns\n",
    "\n",
    "sns.set(rc={\"figure.figsize\":(14, 8)}) #(height,width) of figures\n",
    "fig, axs = plt.subplots(ncols=2) # include 2 subplots in figure\n",
    "sns.scatterplot(data=Ulmus, x='DBH', y='TreeHeight', ax=axs[0])\n",
    "axs[0].set_title(\"Graph 1\")\n",
    "# code to plot and label Graph 1\n",
    "sns.boxplot(data=Ulmus, x='Species', y='DBH', ax=axs[1])\n",
    "axs[1].set_title(\"Graph 3\")\n",
    "# code to plot and label Graph 3 within figure"
   ]
  },
  {
   "cell_type": "markdown",
   "id": "1eb37ca1-c1e7-4baa-b099-f48403d17e12",
   "metadata": {},
   "source": [
    "To create figure containing Graphs 1 and 3:\n",
    "\n",
    "- set parameters of figures\n",
    "- indicate how many columns (i.e. how many subplots)\n",
    "- code for plotting of graph 1, uses axs[0].set_title() in following line to set title\n",
    "- repeat for Graph 3 using axs[1]"
   ]
  },
  {
   "cell_type": "markdown",
   "id": "3a94ab67-77ff-472c-8888-62ef9091266f",
   "metadata": {},
   "source": [
    "### Python GeoPandas\n",
    "#### Using Spatial Data Portal of Scotland"
   ]
  },
  {
   "cell_type": "code",
   "execution_count": null,
   "id": "6bfb2b9b-922e-44de-87dc-d78ef3d8b9b4",
   "metadata": {},
   "outputs": [],
   "source": [
    "# first the geopandas environment must be imported\n",
    "import geopandas as gpd"
   ]
  },
  {
   "cell_type": "markdown",
   "id": "ae5074cd-1fc8-4fe4-ab79-da6e80a5656c",
   "metadata": {
    "tags": []
   },
   "source": [
    "#### Task 1\n",
    "Read the selected data into a geopandas dataframe"
   ]
  },
  {
   "cell_type": "code",
   "execution_count": null,
   "id": "a011cfcb-f750-4527-9df9-13183b5f1df4",
   "metadata": {},
   "outputs": [],
   "source": [
    "simd20 = gpd.read_file('Assignment_2_Data/SIMD_2020/SIMD_2020.shp')\n",
    "# read in shape file using geopandas"
   ]
  },
  {
   "cell_type": "code",
   "execution_count": null,
   "id": "67945140-7c1d-446e-96c5-ea6e8d9887b4",
   "metadata": {},
   "outputs": [],
   "source": [
    "simd20_small = simd20[[\"DataZone\",\"DZName\",\"LAName\",\"SAPE2017\",\"WAPE2017\",\"EduAttend\", \"HlthCIF\", \"geometry\"]]\n",
    "simd20_small = simd20_small[simd20_small['LAName'] == 'Fife']"
   ]
  },
  {
   "cell_type": "markdown",
   "id": "de1bc956-fe4e-45ed-a313-e7120203490b",
   "metadata": {},
   "source": [
    "Here I have filtered the simd20 dataset to reduce its size leaving in on a select few colums of interest that are necessary for further tasks"
   ]
  },
  {
   "cell_type": "markdown",
   "id": "5de91416-77ad-45ff-bdaa-01a9d9adf9fa",
   "metadata": {},
   "source": [
    "#### Task 2\n",
    "Plot the first 5 and the last 5 sets of records in your selected dataset"
   ]
  },
  {
   "cell_type": "code",
   "execution_count": null,
   "id": "ce6b9800-73f8-4179-ae78-a0fbd3226282",
   "metadata": {},
   "outputs": [],
   "source": [
    "simd20_small.head(5) #first 5 rows"
   ]
  },
  {
   "cell_type": "code",
   "execution_count": null,
   "id": "9cd51251-9b60-4b66-97c7-78b0570fa68e",
   "metadata": {},
   "outputs": [],
   "source": [
    "simd20_small.tail(5) # final 5 rows"
   ]
  },
  {
   "cell_type": "markdown",
   "id": "4e521dff-4be1-4d4d-91f4-d654630a2b0d",
   "metadata": {},
   "source": [
    "#### Task 3\n",
    "Create a map where you can explore the selected dataset"
   ]
  },
  {
   "cell_type": "code",
   "execution_count": null,
   "id": "419266f3-ef87-4089-8815-81ba94bf7878",
   "metadata": {},
   "outputs": [],
   "source": [
    "simd20.explore(column='LAName', cmap='RdPu')\n",
    "# creating an explorative map by Local Authority area"
   ]
  },
  {
   "cell_type": "markdown",
   "id": "8e1bf4cf-2abc-4101-b371-fe1109a93459",
   "metadata": {},
   "source": [
    "#### Task 4\n",
    " What is the Coordinate Reference System of the selected dataset?"
   ]
  },
  {
   "cell_type": "code",
   "execution_count": null,
   "id": "0970059e-d5f8-4a4c-a23f-c84d5514aeda",
   "metadata": {},
   "outputs": [],
   "source": [
    "simd20.crs \n",
    "# this provides the CRS and all relative information"
   ]
  },
  {
   "cell_type": "markdown",
   "id": "4f61f71e-2882-4b3d-a059-d50ae198d159",
   "metadata": {},
   "source": [
    "#### Task 5\n",
    " How many features does the selected dataset contain?"
   ]
  },
  {
   "cell_type": "code",
   "execution_count": null,
   "id": "8de3df61-de5d-445c-b3cb-aa86bad290a2",
   "metadata": {},
   "outputs": [],
   "source": [
    "simd20_small.shape"
   ]
  },
  {
   "cell_type": "markdown",
   "id": "2e1dd167-eed3-44f4-bb77-c46db157cfdd",
   "metadata": {},
   "source": [
    ".shape describes the dimensions of the datafram\n",
    "\n",
    "the selected dataframe is the filteres dataframe I made where only Local Authority = Fife is selected\n",
    "\n",
    "There are 494 columns and 8 rows"
   ]
  },
  {
   "cell_type": "markdown",
   "id": "8ca7e006-cd72-4d59-b1b7-1d8a3f3c854a",
   "metadata": {},
   "source": [
    "#### Task 6\n",
    " Define a sub-setting criterion to create a new geopandas dataframe where you filter the \n",
    "selected dataset based on a categorical attribute"
   ]
  },
  {
   "cell_type": "code",
   "execution_count": null,
   "id": "2ee0a0be-66d6-40bb-b921-e9def13bc335",
   "metadata": {},
   "outputs": [],
   "source": [
    "simd20_subset1 = simd20[[\"DataZone\",\"DZName\",\"LAName\",\"SAPE2017\",\"WAPE2017\",\"EduAttend\", \"HlthCIF\", \"geometry\"]]\n",
    "# intitially creating a subset with just a few columns of interest\n",
    "index_subset1 = simd20_subset1['LAName'] == 'Glasgow City' \n",
    "# filtering new subset data to only include data from Glasgow City\n",
    "simd20_subset1 = simd20_subset1[index_subset1]\n",
    "simd20_subset1.head(5)"
   ]
  },
  {
   "cell_type": "markdown",
   "id": "59841877-d724-4ebe-b731-b7d0d49414a0",
   "metadata": {},
   "source": [
    "New subset of simd20 data frame for LA NAme = Glasgow City"
   ]
  },
  {
   "cell_type": "markdown",
   "id": "70af9fb6-d0d4-475d-a573-345e56dc98cc",
   "metadata": {},
   "source": [
    "#### Task 7\n",
    "Define a sub-setting criterion to create a new geopandas dataframe where you filter the \n",
    "selected dataset based on a numerical attribute"
   ]
  },
  {
   "cell_type": "code",
   "execution_count": null,
   "id": "62bfdd04-eb7d-4480-87cf-f241e4c37437",
   "metadata": {},
   "outputs": [],
   "source": [
    "simd20_subset2 = simd20[[\"DataZone\",\"DZName\",\"LAName\",\"SAPE2017\",\"WAPE2017\",\"EduAttend\", \"HlthCIF\", \"geometry\"]]\n",
    "# again creating a new subset with same columns of interest\n",
    "index_subset2 = simd20_subset2['SAPE2017'] > 2000 \n",
    "# filtering dataset to include on values where \"SAPE2017\" exceeds 2000\n",
    "# SAPE2017 is the small area estimated population from 2017\n",
    "simd20_subset2 = simd20_subset2[index_subset2]\n",
    "simd20_subset2.head(5)"
   ]
  },
  {
   "cell_type": "markdown",
   "id": "735cb5c5-bd72-410f-83dc-ba6e5a39aeda",
   "metadata": {},
   "source": [
    "New subset of simd20 dataframe made for  which is the small area population estimate from 2017\n",
    "\n",
    "This provides an estimated population for each datazone"
   ]
  },
  {
   "cell_type": "markdown",
   "id": "dd9de8be-2aec-42f0-ad23-effc4b168532",
   "metadata": {},
   "source": [
    "#### Task 8\n",
    "Plot the new/filtered geopandas dataframe using one of the attributes to create a \n",
    "choropleth map"
   ]
  },
  {
   "cell_type": "code",
   "execution_count": null,
   "id": "16280196-4e2d-4498-bf2c-c7e983a6625a",
   "metadata": {},
   "outputs": [],
   "source": [
    "plt.rcParams['figure.figsize'] = [10, 9]\n",
    "fig, ax = plt.subplots(1, 1)\n",
    "simd20_subset1.plot(column='SAPE2017', cmap=\"turbo\", ax=ax, legend=True, legend_kwds={'label': \"SAPE2017\", 'orientation': \"vertical\"})\n",
    "\n",
    "# creating the chloropleth map for Glasgow City based oon SAPE2017 attribute\n",
    "# this is the small area population estimate for 2017 for each Data Zone within the Glasgow City Local Authority Area"
   ]
  },
  {
   "cell_type": "markdown",
   "id": "0f33490e-f2df-4b76-ba0c-0c2fa0f7e87f",
   "metadata": {},
   "source": [
    "This creates a chloropleth map of glasgow city based on SAPE2017"
   ]
  },
  {
   "cell_type": "markdown",
   "id": "646be17a-20bb-495a-ae6c-406469999b60",
   "metadata": {},
   "source": [
    "### Python Rasterio\n",
    "#### Using 30 m spatial resolution digital elevation model (DEM) derived from the National Elevation Dataset (NED) in Canada with elevation in meters"
   ]
  },
  {
   "cell_type": "code",
   "execution_count": null,
   "id": "6a172fe7-5145-4500-8168-cdd15a2760f0",
   "metadata": {},
   "outputs": [],
   "source": [
    "# first the rasterio environment must be imported \n",
    "import rasterio as rio\n",
    "from rasterio import plot"
   ]
  },
  {
   "cell_type": "markdown",
   "id": "db78fde0-425d-41ee-95a7-afe7757976b7",
   "metadata": {},
   "source": [
    "#### Task 1\n",
    "Read the rasterio data set"
   ]
  },
  {
   "cell_type": "code",
   "execution_count": null,
   "id": "1d8a4da8-8a5b-41ab-ac7c-fdc4464b2364",
   "metadata": {},
   "outputs": [],
   "source": [
    "elev = rio.open('Assignment_2_Data/elev.tif')\n",
    "# opening tif file of raster data using rasterio"
   ]
  },
  {
   "cell_type": "markdown",
   "id": "2bd84d7a-880f-411f-a7ae-d20eb9c4ab00",
   "metadata": {},
   "source": [
    "#### Task 2\n",
    "What is the CRS of the dataset?"
   ]
  },
  {
   "cell_type": "code",
   "execution_count": null,
   "id": "bc9e79b8-18af-4729-a691-89293b3e70de",
   "metadata": {},
   "outputs": [],
   "source": [
    "print(elev.crs)"
   ]
  },
  {
   "cell_type": "markdown",
   "id": "17d11002-7181-4c35-a8ad-75c5de59daab",
   "metadata": {},
   "source": [
    "#### Task 3\n",
    "Describe the raster dataset regarding the raster extent (bounds), the reference system, and\n",
    "how many bands are in this dataset"
   ]
  },
  {
   "cell_type": "code",
   "execution_count": null,
   "id": "745c482d-e9e1-458c-b0a5-0eca85b69d13",
   "metadata": {},
   "outputs": [],
   "source": [
    "width=elev.width\n",
    "height=elev.height\n",
    "bands=elev.count\n",
    "refsyst=elev.crs\n",
    "bounds=elev.bounds\n",
    "\n",
    "print(\"The width of this dataset is\", width)\n",
    "print(\"The height of this dataset is\", height)\n",
    "print(\"The number of bands in this data set is\", bands)\n",
    "print(\"The reference system of this data set is:\",refsyst)\n",
    "print(\"The bound of this dataset are as follows:\", bounds)"
   ]
  },
  {
   "cell_type": "markdown",
   "id": "9e8b1f63-9b7f-423f-9a4f-5e6b721fac77",
   "metadata": {},
   "source": [
    ".width, .height, .count, .crs, .bounds are all part of rasterio that provide the necessary data for this question"
   ]
  },
  {
   "cell_type": "markdown",
   "id": "945a418a-972d-48fc-9bf6-6ebb2c90114b",
   "metadata": {},
   "source": [
    "#### Task 4\n",
    "Create a plot/map of the raster dataset"
   ]
  },
  {
   "cell_type": "code",
   "execution_count": null,
   "id": "555e9ad8-f328-4f4a-b280-d6336da6114d",
   "metadata": {},
   "outputs": [],
   "source": [
    "pip install earthpy #installing earthpy package"
   ]
  },
  {
   "cell_type": "code",
   "execution_count": null,
   "id": "67997b70-ddbe-4343-a32e-7c42b43f45f1",
   "metadata": {},
   "outputs": [],
   "source": [
    "import earthpy as et\n",
    "import earthpy.spatial as es\n",
    "import earthpy.plot as ep\n",
    "# importing necessary libraries from earthpy"
   ]
  },
  {
   "cell_type": "code",
   "execution_count": null,
   "id": "7ef076a4-03b7-4e01-9840-c3e0078ff5a0",
   "metadata": {},
   "outputs": [],
   "source": [
    "elev_arr = elev.read(1, masked=True) \n",
    "# masks data within raster bounds where no data\n",
    "elev_masked = np.ma.masked_array(elev_arr, mask=(elev_arr == 0)) \n",
    "plt.rcParams['figure.figsize'] = [10, 8]\n",
    "ep.plot_bands(elev_arr, title=\"Digital Elevation Model\", cmap=\"gist_earth\")\n",
    "plt.show # this is the final result"
   ]
  },
  {
   "cell_type": "markdown",
   "id": "1f74c79a-c89c-4008-a061-3ce5a3c167fc",
   "metadata": {},
   "source": [
    "**Creating the above image:**\n",
    "\n",
    "1) Convert raster into an array\n",
    "2) Mask parts of raster with no elevation data using np.ma.masked_array (this works with array with masked data)\n",
    "3) Set figure size\n",
    "4) Create plot using ep.plot_bands, cmap = gist_earth\n",
    "5) Use plt.show to produce image with legend"
   ]
  },
  {
   "cell_type": "markdown",
   "id": "5d9cee87-28f1-4a40-956b-88a794fdb6ac",
   "metadata": {
    "tags": []
   },
   "source": [
    "### Task 5\n",
    "#### Create histograms from raster"
   ]
  },
  {
   "cell_type": "code",
   "execution_count": null,
   "id": "208babfd-6afb-4aef-a5d5-d739607f4841",
   "metadata": {},
   "outputs": [],
   "source": [
    "ep.hist(elev_arr, figsize =(10,8), title=\"Histogram of Digital Elevation Model raster data\")\n",
    "plt.show()"
   ]
  },
  {
   "cell_type": "markdown",
   "id": "2756f465-6b00-48ec-9814-088fe3b187e9",
   "metadata": {},
   "source": [
    "The function ep.hist is the function used to create histogram based on the elev_arr created in previous task\n",
    "\n",
    "The printed result shows the frequency of elevation measures present in the raster data"
   ]
  },
  {
   "cell_type": "markdown",
   "id": "ca4fc280-6a1e-4662-902e-d27b8ca99d71",
   "metadata": {},
   "source": [
    "# The End\n",
    "### Thank you"
   ]
  }
 ],
 "metadata": {
  "kernelspec": {
   "display_name": "Python 3 (ipykernel)",
   "language": "python",
   "name": "python3"
  },
  "language_info": {
   "codemirror_mode": {
    "name": "ipython",
    "version": 3
   },
   "file_extension": ".py",
   "mimetype": "text/x-python",
   "name": "python",
   "nbconvert_exporter": "python",
   "pygments_lexer": "ipython3",
   "version": "3.10.9"
  }
 },
 "nbformat": 4,
 "nbformat_minor": 5
}
